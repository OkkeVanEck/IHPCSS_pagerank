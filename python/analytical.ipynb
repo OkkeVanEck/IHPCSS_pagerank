{
 "cells": [
  {
   "cell_type": "markdown",
   "metadata": {},
   "source": [
    "# Analytical solution with 1 free variable that can be binary searched over\n",
    "\n",
    "Basic idea:\n",
    " - when you know the steady state of the first node, you can calculate he steady state of the last node as it only links to the first node and no other node\n",
    " - the difference between the first and second node is that the first node links to the last node. As we know the contribution of the last node (as we know its steady state dist), we can calculate its steady state\n",
    "- etc\n",
    "\n",
    "\n",
    "DF = dampeing factor\n",
    "plus = constant addition\n",
    "\n",
    "i0 = ??\n",
    "\n",
    "# only connected to i0\n",
    "i99 = i0/99 * DF + plus\n",
    "\n",
    "# same as i0, except connected to i0 instead of itself (factored out), and not connected to i99 (subtracted\n",
    "# i1 = i0 - (i99 * DF) - i1/98 * DF + i0/99 * DF\n",
    "i1 = (i0 - (i99 * DF) + i0/99 * DF) / (1 + 1/98 * DF)\n",
    "\n",
    "i98 = i0/99 * DF + i1/98 * DF + plus\n",
    "\n",
    "i2 = (i1 - i98 + i"
   ]
  },
  {
   "cell_type": "code",
   "execution_count": 1,
   "metadata": {},
   "outputs": [],
   "source": [
    "import numpy as np"
   ]
  },
  {
   "cell_type": "code",
   "execution_count": 11,
   "metadata": {},
   "outputs": [
    {
     "data": {
      "text/plain": [
       "array([0.02229943, 0.02087212, 0.02008137, 0.01950425, 0.01903464,\n",
       "       0.01862994, 0.01826877, 0.01793888, 0.01763257, 0.01734471,\n",
       "       0.01707168, 0.01681084, 0.01656021, 0.01631825, 0.01608375,\n",
       "       0.01585575, 0.01563345, 0.0154162 , 0.01520345, 0.01499473,\n",
       "       0.01478966, 0.01458789, 0.01438913, 0.01419311, 0.01399962,\n",
       "       0.01380846, 0.01361944, 0.0134324 , 0.01324721, 0.01306374,\n",
       "       0.01288187, 0.01270149, 0.0125225 , 0.01234483, 0.01216838,\n",
       "       0.01199308, 0.01181887, 0.01164569, 0.01147346, 0.01130214,\n",
       "       0.01113167, 0.01096201, 0.01079311, 0.01062492, 0.01045742,\n",
       "       0.01029055, 0.01012429, 0.00995859, 0.00979343, 0.00962878,\n",
       "       0.00962878, 0.00946509, 0.00930186, 0.00913908, 0.00897671,\n",
       "       0.00881473, 0.00865311, 0.00849184, 0.00833089, 0.00817024,\n",
       "       0.00800987, 0.00784976, 0.00768988, 0.00753022, 0.00737076,\n",
       "       0.00721148, 0.00705235, 0.00689337, 0.0067345 , 0.00657573,\n",
       "       0.00641704, 0.00625841, 0.00609982, 0.00594124, 0.00578266,\n",
       "       0.00562404, 0.00546538, 0.00530664, 0.0051478 , 0.00498883,\n",
       "       0.0048297 , 0.00467038, 0.00451084, 0.00435104, 0.00419094,\n",
       "       0.00403049, 0.00386966, 0.00370837, 0.00354658, 0.0033842 ,\n",
       "       0.00322115, 0.00305734, 0.00289264, 0.0027269 , 0.00255993,\n",
       "       0.00239147, 0.00222116, 0.00204846, 0.00187249, 0.00169146])"
      ]
     },
     "execution_count": 11,
     "metadata": {},
     "output_type": "execute_result"
    }
   ],
   "source": [
    "DF = 0.85 # dampeing factor\n",
    "SIZE = 100 # graph size\n",
    "\n",
    "init_flow =  (1.0 - DF) / SIZE # standard flow a node always gets\n",
    "\n",
    "def solve(i0):\n",
    "    res = np.zeros(SIZE)\n",
    "    res[0] = i0\n",
    "\n",
    "    for i in range(0,SIZE//2):\n",
    "        # ASSUMPTIONS: res[<= i], res[> iv] is already solved\n",
    "        # res[iv] needs to be solved\n",
    "        # res[i+1] needs to be solved\n",
    "\n",
    "        iv = SIZE - i - 1 # inverse index of i\n",
    "        outdegree_i = SIZE - i - 1; # happens to be the same\n",
    "        outdegree_iv = i + 1;\n",
    "\n",
    "        # res[iv] is the sum of flow for all res[<= i]\n",
    "        res[iv] = init_flow\n",
    "        for j in range(0, i + 1): # inclusive loop\n",
    "            jv = SIZE - j - 1\n",
    "            res[iv] += res[j]/(SIZE - j - 1) * DF\n",
    "        \n",
    "        # res[i+1] is the same as res[i] with some changes\n",
    "        if i < SIZE//2 - 1:\n",
    "            res[i+1] = (res[i] - (res[iv] * DF / outdegree_iv) + res[i]/outdegree_i * DF) / (1 + 1/(outdegree_i - 1) * DF)\n",
    "    return res\n",
    "\n",
    "\n",
    "# i0 = 0.022299432002\n",
    "# But lets bin search that for good measure\n",
    "# By overestimating i0, the sum will be > 1, < 1 otherwise\n",
    "\n",
    "EPSILON = 1e-12\n",
    "low = 0.0\n",
    "high = 1.0\n",
    "sol = None\n",
    "while high - low > EPSILON:\n",
    "    mid = (low + high) / 2\n",
    "    sol = solve(mid)\n",
    "    if np.sum(sol) > 1.0:\n",
    "        high = mid\n",
    "    else:\n",
    "        low = mid\n",
    "sol"
   ]
  }
 ],
 "metadata": {
  "kernelspec": {
   "display_name": "Python 3",
   "language": "python",
   "name": "python3"
  },
  "language_info": {
   "codemirror_mode": {
    "name": "ipython",
    "version": 3
   },
   "file_extension": ".py",
   "mimetype": "text/x-python",
   "name": "python",
   "nbconvert_exporter": "python",
   "pygments_lexer": "ipython3",
   "version": "3.10.12"
  }
 },
 "nbformat": 4,
 "nbformat_minor": 2
}
